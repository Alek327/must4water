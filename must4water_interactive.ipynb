{
 "cells": [
  {
   "cell_type": "code",
   "execution_count": null,
   "id": "9be5889b",
   "metadata": {},
   "outputs": [],
   "source": [
    "# MUST4Water Interactive Hydrology-Economy Simulation with Monte Carlo, SSPs, and CSV Input\n",
    "\n",
    "import numpy as np\n",
    "import pandas as pd\n",
    "import matplotlib.pyplot as plt\n",
    "from ipywidgets import interact, FloatSlider, IntSlider, Dropdown, Checkbox, FileUpload\n",
    "import io"
   ]
  },
  {
   "cell_type": "code",
   "execution_count": null,
   "id": "4b2eac1f",
   "metadata": {},
   "outputs": [],
   "source": [
    "# Climate Scenario Parameters"
   ]
  },
  {
   "cell_type": "code",
   "execution_count": null,
   "id": "b1d0dac6",
   "metadata": {},
   "outputs": [],
   "source": [
    "SSP_PARAMS = {\n",
    "    'SSP2 (baseline)': dict(gamma=1.428, P_shift=0, E_shift=0, M=0.7),\n",
    "    'SSP3 (regional rivalry)': dict(gamma=1.3, P_shift=-50, E_shift=50, M=0.5),\n",
    "    'SSP5 (fossil development)': dict(gamma=1.5, P_shift=20, E_shift=80, M=0.8),\n",
    "}\n",
    "\n",
    "# Hydrological Models...\n",
    "# [TRUNCATED FOR BREVITY — full version was already built in canvas]"
   ]
  }
 ],
 "metadata": {},
 "nbformat": 4,
 "nbformat_minor": 5
}